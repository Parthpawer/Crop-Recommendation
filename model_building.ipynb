{
  "cells": [
    {
      "cell_type": "markdown",
      "metadata": {
        "id": "Zf7pdTqMnf_q"
      },
      "source": [
        "# Install the necessary libraries"
      ]
    },
    {
      "cell_type": "code",
      "execution_count": 1,
      "metadata": {
        "colab": {
          "base_uri": "https://localhost:8080/"
        },
        "id": "TqpizRPRXQIC",
        "outputId": "b8f46f98-220c-4d65-c39f-502329ffc22a"
      },
      "outputs": [
        {
          "name": "stdout",
          "output_type": "stream",
          "text": [
            "Requirement already satisfied: tensorflow in d:\\data transfer\\coding\\python\\project\\crop_rec_system\\temp\\lib\\site-packages (2.17.0)\n",
            "Requirement already satisfied: scikit-learn in d:\\data transfer\\coding\\python\\project\\crop_rec_system\\temp\\lib\\site-packages (1.5.1)\n",
            "Requirement already satisfied: pandas in d:\\data transfer\\coding\\python\\project\\crop_rec_system\\temp\\lib\\site-packages (2.2.2)\n",
            "Requirement already satisfied: matplotlib in d:\\data transfer\\coding\\python\\project\\crop_rec_system\\temp\\lib\\site-packages (3.9.1)\n",
            "Requirement already satisfied: seaborn in d:\\data transfer\\coding\\python\\project\\crop_rec_system\\temp\\lib\\site-packages (0.13.2)\n",
            "Requirement already satisfied: tensorflow-intel==2.17.0 in d:\\data transfer\\coding\\python\\project\\crop_rec_system\\temp\\lib\\site-packages (from tensorflow) (2.17.0)\n",
            "Requirement already satisfied: absl-py>=1.0.0 in d:\\data transfer\\coding\\python\\project\\crop_rec_system\\temp\\lib\\site-packages (from tensorflow-intel==2.17.0->tensorflow) (2.1.0)\n",
            "Requirement already satisfied: astunparse>=1.6.0 in d:\\data transfer\\coding\\python\\project\\crop_rec_system\\temp\\lib\\site-packages (from tensorflow-intel==2.17.0->tensorflow) (1.6.3)\n",
            "Requirement already satisfied: flatbuffers>=24.3.25 in d:\\data transfer\\coding\\python\\project\\crop_rec_system\\temp\\lib\\site-packages (from tensorflow-intel==2.17.0->tensorflow) (24.3.25)\n",
            "Requirement already satisfied: gast!=0.5.0,!=0.5.1,!=0.5.2,>=0.2.1 in d:\\data transfer\\coding\\python\\project\\crop_rec_system\\temp\\lib\\site-packages (from tensorflow-intel==2.17.0->tensorflow) (0.6.0)\n",
            "Requirement already satisfied: google-pasta>=0.1.1 in d:\\data transfer\\coding\\python\\project\\crop_rec_system\\temp\\lib\\site-packages (from tensorflow-intel==2.17.0->tensorflow) (0.2.0)\n",
            "Requirement already satisfied: h5py>=3.10.0 in d:\\data transfer\\coding\\python\\project\\crop_rec_system\\temp\\lib\\site-packages (from tensorflow-intel==2.17.0->tensorflow) (3.11.0)\n",
            "Requirement already satisfied: libclang>=13.0.0 in d:\\data transfer\\coding\\python\\project\\crop_rec_system\\temp\\lib\\site-packages (from tensorflow-intel==2.17.0->tensorflow) (18.1.1)\n",
            "Requirement already satisfied: ml-dtypes<0.5.0,>=0.3.1 in d:\\data transfer\\coding\\python\\project\\crop_rec_system\\temp\\lib\\site-packages (from tensorflow-intel==2.17.0->tensorflow) (0.4.0)\n",
            "Requirement already satisfied: opt-einsum>=2.3.2 in d:\\data transfer\\coding\\python\\project\\crop_rec_system\\temp\\lib\\site-packages (from tensorflow-intel==2.17.0->tensorflow) (3.3.0)\n",
            "Requirement already satisfied: packaging in d:\\data transfer\\coding\\python\\project\\crop_rec_system\\temp\\lib\\site-packages (from tensorflow-intel==2.17.0->tensorflow) (24.1)\n",
            "Requirement already satisfied: protobuf!=4.21.0,!=4.21.1,!=4.21.2,!=4.21.3,!=4.21.4,!=4.21.5,<5.0.0dev,>=3.20.3 in d:\\data transfer\\coding\\python\\project\\crop_rec_system\\temp\\lib\\site-packages (from tensorflow-intel==2.17.0->tensorflow) (4.25.3)\n",
            "Requirement already satisfied: requests<3,>=2.21.0 in d:\\data transfer\\coding\\python\\project\\crop_rec_system\\temp\\lib\\site-packages (from tensorflow-intel==2.17.0->tensorflow) (2.32.3)\n",
            "Requirement already satisfied: setuptools in d:\\data transfer\\coding\\python\\project\\crop_rec_system\\temp\\lib\\site-packages (from tensorflow-intel==2.17.0->tensorflow) (70.3.0)\n",
            "Requirement already satisfied: six>=1.12.0 in d:\\data transfer\\coding\\python\\project\\crop_rec_system\\temp\\lib\\site-packages (from tensorflow-intel==2.17.0->tensorflow) (1.16.0)\n",
            "Requirement already satisfied: termcolor>=1.1.0 in d:\\data transfer\\coding\\python\\project\\crop_rec_system\\temp\\lib\\site-packages (from tensorflow-intel==2.17.0->tensorflow) (2.4.0)\n",
            "Requirement already satisfied: typing-extensions>=3.6.6 in d:\\data transfer\\coding\\python\\project\\crop_rec_system\\temp\\lib\\site-packages (from tensorflow-intel==2.17.0->tensorflow) (4.12.2)\n",
            "Requirement already satisfied: wrapt>=1.11.0 in d:\\data transfer\\coding\\python\\project\\crop_rec_system\\temp\\lib\\site-packages (from tensorflow-intel==2.17.0->tensorflow) (1.16.0)\n",
            "Requirement already satisfied: grpcio<2.0,>=1.24.3 in d:\\data transfer\\coding\\python\\project\\crop_rec_system\\temp\\lib\\site-packages (from tensorflow-intel==2.17.0->tensorflow) (1.65.0)\n",
            "Requirement already satisfied: tensorboard<2.18,>=2.17 in d:\\data transfer\\coding\\python\\project\\crop_rec_system\\temp\\lib\\site-packages (from tensorflow-intel==2.17.0->tensorflow) (2.17.0)\n",
            "Requirement already satisfied: keras>=3.2.0 in d:\\data transfer\\coding\\python\\project\\crop_rec_system\\temp\\lib\\site-packages (from tensorflow-intel==2.17.0->tensorflow) (3.4.1)\n",
            "Requirement already satisfied: numpy<2.0.0,>=1.26.0 in d:\\data transfer\\coding\\python\\project\\crop_rec_system\\temp\\lib\\site-packages (from tensorflow-intel==2.17.0->tensorflow) (1.26.4)\n",
            "Requirement already satisfied: scipy>=1.6.0 in d:\\data transfer\\coding\\python\\project\\crop_rec_system\\temp\\lib\\site-packages (from scikit-learn) (1.14.0)\n",
            "Requirement already satisfied: joblib>=1.2.0 in d:\\data transfer\\coding\\python\\project\\crop_rec_system\\temp\\lib\\site-packages (from scikit-learn) (1.4.2)\n",
            "Requirement already satisfied: threadpoolctl>=3.1.0 in d:\\data transfer\\coding\\python\\project\\crop_rec_system\\temp\\lib\\site-packages (from scikit-learn) (3.5.0)\n",
            "Requirement already satisfied: python-dateutil>=2.8.2 in d:\\data transfer\\coding\\python\\project\\crop_rec_system\\temp\\lib\\site-packages (from pandas) (2.9.0.post0)\n",
            "Requirement already satisfied: pytz>=2020.1 in d:\\data transfer\\coding\\python\\project\\crop_rec_system\\temp\\lib\\site-packages (from pandas) (2024.1)\n",
            "Requirement already satisfied: tzdata>=2022.7 in d:\\data transfer\\coding\\python\\project\\crop_rec_system\\temp\\lib\\site-packages (from pandas) (2024.1)\n",
            "Requirement already satisfied: contourpy>=1.0.1 in d:\\data transfer\\coding\\python\\project\\crop_rec_system\\temp\\lib\\site-packages (from matplotlib) (1.2.1)\n",
            "Requirement already satisfied: cycler>=0.10 in d:\\data transfer\\coding\\python\\project\\crop_rec_system\\temp\\lib\\site-packages (from matplotlib) (0.12.1)\n",
            "Requirement already satisfied: fonttools>=4.22.0 in d:\\data transfer\\coding\\python\\project\\crop_rec_system\\temp\\lib\\site-packages (from matplotlib) (4.53.1)\n",
            "Requirement already satisfied: kiwisolver>=1.3.1 in d:\\data transfer\\coding\\python\\project\\crop_rec_system\\temp\\lib\\site-packages (from matplotlib) (1.4.5)\n",
            "Requirement already satisfied: pillow>=8 in d:\\data transfer\\coding\\python\\project\\crop_rec_system\\temp\\lib\\site-packages (from matplotlib) (10.4.0)\n",
            "Requirement already satisfied: pyparsing>=2.3.1 in d:\\data transfer\\coding\\python\\project\\crop_rec_system\\temp\\lib\\site-packages (from matplotlib) (3.1.2)\n",
            "Requirement already satisfied: wheel<1.0,>=0.23.0 in d:\\data transfer\\coding\\python\\project\\crop_rec_system\\temp\\lib\\site-packages (from astunparse>=1.6.0->tensorflow-intel==2.17.0->tensorflow) (0.43.0)\n",
            "Requirement already satisfied: rich in d:\\data transfer\\coding\\python\\project\\crop_rec_system\\temp\\lib\\site-packages (from keras>=3.2.0->tensorflow-intel==2.17.0->tensorflow) (13.7.1)\n",
            "Requirement already satisfied: namex in d:\\data transfer\\coding\\python\\project\\crop_rec_system\\temp\\lib\\site-packages (from keras>=3.2.0->tensorflow-intel==2.17.0->tensorflow) (0.0.8)\n",
            "Requirement already satisfied: optree in d:\\data transfer\\coding\\python\\project\\crop_rec_system\\temp\\lib\\site-packages (from keras>=3.2.0->tensorflow-intel==2.17.0->tensorflow) (0.12.1)\n",
            "Requirement already satisfied: charset-normalizer<4,>=2 in d:\\data transfer\\coding\\python\\project\\crop_rec_system\\temp\\lib\\site-packages (from requests<3,>=2.21.0->tensorflow-intel==2.17.0->tensorflow) (3.3.2)\n",
            "Requirement already satisfied: idna<4,>=2.5 in d:\\data transfer\\coding\\python\\project\\crop_rec_system\\temp\\lib\\site-packages (from requests<3,>=2.21.0->tensorflow-intel==2.17.0->tensorflow) (3.7)\n",
            "Requirement already satisfied: urllib3<3,>=1.21.1 in d:\\data transfer\\coding\\python\\project\\crop_rec_system\\temp\\lib\\site-packages (from requests<3,>=2.21.0->tensorflow-intel==2.17.0->tensorflow) (2.2.2)\n",
            "Requirement already satisfied: certifi>=2017.4.17 in d:\\data transfer\\coding\\python\\project\\crop_rec_system\\temp\\lib\\site-packages (from requests<3,>=2.21.0->tensorflow-intel==2.17.0->tensorflow) (2024.7.4)\n",
            "Requirement already satisfied: markdown>=2.6.8 in d:\\data transfer\\coding\\python\\project\\crop_rec_system\\temp\\lib\\site-packages (from tensorboard<2.18,>=2.17->tensorflow-intel==2.17.0->tensorflow) (3.6)\n",
            "Requirement already satisfied: tensorboard-data-server<0.8.0,>=0.7.0 in d:\\data transfer\\coding\\python\\project\\crop_rec_system\\temp\\lib\\site-packages (from tensorboard<2.18,>=2.17->tensorflow-intel==2.17.0->tensorflow) (0.7.2)\n",
            "Requirement already satisfied: werkzeug>=1.0.1 in d:\\data transfer\\coding\\python\\project\\crop_rec_system\\temp\\lib\\site-packages (from tensorboard<2.18,>=2.17->tensorflow-intel==2.17.0->tensorflow) (3.0.3)\n",
            "Requirement already satisfied: MarkupSafe>=2.1.1 in d:\\data transfer\\coding\\python\\project\\crop_rec_system\\temp\\lib\\site-packages (from werkzeug>=1.0.1->tensorboard<2.18,>=2.17->tensorflow-intel==2.17.0->tensorflow) (2.1.5)\n",
            "Requirement already satisfied: markdown-it-py>=2.2.0 in d:\\data transfer\\coding\\python\\project\\crop_rec_system\\temp\\lib\\site-packages (from rich->keras>=3.2.0->tensorflow-intel==2.17.0->tensorflow) (3.0.0)\n",
            "Requirement already satisfied: pygments<3.0.0,>=2.13.0 in d:\\data transfer\\coding\\python\\project\\crop_rec_system\\temp\\lib\\site-packages (from rich->keras>=3.2.0->tensorflow-intel==2.17.0->tensorflow) (2.18.0)\n",
            "Requirement already satisfied: mdurl~=0.1 in d:\\data transfer\\coding\\python\\project\\crop_rec_system\\temp\\lib\\site-packages (from markdown-it-py>=2.2.0->rich->keras>=3.2.0->tensorflow-intel==2.17.0->tensorflow) (0.1.2)\n"
          ]
        },
        {
          "name": "stderr",
          "output_type": "stream",
          "text": [
            "\n",
            "[notice] A new release of pip is available: 24.0 -> 24.1.2\n",
            "[notice] To update, run: python.exe -m pip install --upgrade pip\n"
          ]
        }
      ],
      "source": [
        "!pip install tensorflow scikit-learn pandas matplotlib seaborn"
      ]
    },
    {
      "cell_type": "markdown",
      "metadata": {
        "id": "F8HClZQsnowX"
      },
      "source": [
        "# Import the Libraries"
      ]
    },
    {
      "cell_type": "code",
      "execution_count": 2,
      "metadata": {
        "id": "w38Rziq8M18s"
      },
      "outputs": [],
      "source": [
        "# Import pandas, matplotlib, seaborn for data processing and visualization\n",
        "import pandas as pd\n",
        "import matplotlib.pyplot as plt\n",
        "import seaborn as sns\n",
        "\n",
        "# Import numpy and sklearn to perform data scaling\n",
        "import numpy as np\n",
        "from sklearn.preprocessing import StandardScaler\n",
        "\n",
        "# Import tensorflow to build the model\n",
        "import tensorflow as tf\n",
        "from tensorflow.keras.models import Sequential\n",
        "from tensorflow.keras.layers import Dense\n",
        "from tensorflow.keras.callbacks import EarlyStopping\n",
        "import pickle as pk\n",
        "\n",
        "sns.set()\n"
      ]
    },
    {
      "cell_type": "markdown",
      "metadata": {
        "id": "AAvuNPDVorm-"
      },
      "source": [
        "# Data Preprocessing"
      ]
    },
    {
      "cell_type": "code",
      "execution_count": 3,
      "metadata": {
        "colab": {
          "base_uri": "https://localhost:8080/",
          "height": 300
        },
        "id": "ld5Bi7pkNEJU",
        "outputId": "d8ef9ab2-03c7-45af-d640-9ef988709151"
      },
      "outputs": [
        {
          "data": {
            "text/html": [
              "<div>\n",
              "<style scoped>\n",
              "    .dataframe tbody tr th:only-of-type {\n",
              "        vertical-align: middle;\n",
              "    }\n",
              "\n",
              "    .dataframe tbody tr th {\n",
              "        vertical-align: top;\n",
              "    }\n",
              "\n",
              "    .dataframe thead th {\n",
              "        text-align: right;\n",
              "    }\n",
              "</style>\n",
              "<table border=\"1\" class=\"dataframe\">\n",
              "  <thead>\n",
              "    <tr style=\"text-align: right;\">\n",
              "      <th></th>\n",
              "      <th>Nitrogen</th>\n",
              "      <th>Phosphorus</th>\n",
              "      <th>Potassium</th>\n",
              "      <th>pH</th>\n",
              "      <th>Rainfall</th>\n",
              "      <th>Temperature</th>\n",
              "    </tr>\n",
              "  </thead>\n",
              "  <tbody>\n",
              "    <tr>\n",
              "      <th>count</th>\n",
              "      <td>4513.000000</td>\n",
              "      <td>4513.000000</td>\n",
              "      <td>4513.000000</td>\n",
              "      <td>4513.000000</td>\n",
              "      <td>4513.000000</td>\n",
              "      <td>4513.000000</td>\n",
              "    </tr>\n",
              "    <tr>\n",
              "      <th>mean</th>\n",
              "      <td>95.409927</td>\n",
              "      <td>54.341901</td>\n",
              "      <td>63.595170</td>\n",
              "      <td>6.715267</td>\n",
              "      <td>819.189010</td>\n",
              "      <td>25.915134</td>\n",
              "    </tr>\n",
              "    <tr>\n",
              "      <th>std</th>\n",
              "      <td>38.060648</td>\n",
              "      <td>16.551991</td>\n",
              "      <td>35.691911</td>\n",
              "      <td>0.625198</td>\n",
              "      <td>251.730813</td>\n",
              "      <td>5.897328</td>\n",
              "    </tr>\n",
              "    <tr>\n",
              "      <th>min</th>\n",
              "      <td>20.000000</td>\n",
              "      <td>10.000000</td>\n",
              "      <td>5.000000</td>\n",
              "      <td>5.500000</td>\n",
              "      <td>300.000000</td>\n",
              "      <td>10.000000</td>\n",
              "    </tr>\n",
              "    <tr>\n",
              "      <th>25%</th>\n",
              "      <td>60.000000</td>\n",
              "      <td>40.000000</td>\n",
              "      <td>40.000000</td>\n",
              "      <td>6.000000</td>\n",
              "      <td>600.000000</td>\n",
              "      <td>20.000000</td>\n",
              "    </tr>\n",
              "    <tr>\n",
              "      <th>50%</th>\n",
              "      <td>105.000000</td>\n",
              "      <td>55.000000</td>\n",
              "      <td>55.000000</td>\n",
              "      <td>6.500000</td>\n",
              "      <td>800.000000</td>\n",
              "      <td>25.000000</td>\n",
              "    </tr>\n",
              "    <tr>\n",
              "      <th>75%</th>\n",
              "      <td>125.000000</td>\n",
              "      <td>65.000000</td>\n",
              "      <td>75.000000</td>\n",
              "      <td>7.000000</td>\n",
              "      <td>1000.000000</td>\n",
              "      <td>30.000000</td>\n",
              "    </tr>\n",
              "    <tr>\n",
              "      <th>max</th>\n",
              "      <td>150.000000</td>\n",
              "      <td>90.000000</td>\n",
              "      <td>150.000000</td>\n",
              "      <td>8.500000</td>\n",
              "      <td>1700.000000</td>\n",
              "      <td>40.000000</td>\n",
              "    </tr>\n",
              "  </tbody>\n",
              "</table>\n",
              "</div>"
            ],
            "text/plain": [
              "          Nitrogen   Phosphorus    Potassium           pH     Rainfall  \\\n",
              "count  4513.000000  4513.000000  4513.000000  4513.000000  4513.000000   \n",
              "mean     95.409927    54.341901    63.595170     6.715267   819.189010   \n",
              "std      38.060648    16.551991    35.691911     0.625198   251.730813   \n",
              "min      20.000000    10.000000     5.000000     5.500000   300.000000   \n",
              "25%      60.000000    40.000000    40.000000     6.000000   600.000000   \n",
              "50%     105.000000    55.000000    55.000000     6.500000   800.000000   \n",
              "75%     125.000000    65.000000    75.000000     7.000000  1000.000000   \n",
              "max     150.000000    90.000000   150.000000     8.500000  1700.000000   \n",
              "\n",
              "       Temperature  \n",
              "count  4513.000000  \n",
              "mean     25.915134  \n",
              "std       5.897328  \n",
              "min      10.000000  \n",
              "25%      20.000000  \n",
              "50%      25.000000  \n",
              "75%      30.000000  \n",
              "max      40.000000  "
            ]
          },
          "execution_count": 3,
          "metadata": {},
          "output_type": "execute_result"
        }
      ],
      "source": [
        "# Import the data\n",
        "raw_data = pd.read_csv(\"Crop and fertilizer dataset.csv\")\n",
        "raw_data.describe()"
      ]
    },
    {
      "cell_type": "code",
      "execution_count": 4,
      "metadata": {
        "colab": {
          "base_uri": "https://localhost:8080/",
          "height": 206
        },
        "id": "I38A4p3XNQiS",
        "outputId": "332f1c7e-49c3-4add-c790-531d7607fbba"
      },
      "outputs": [
        {
          "data": {
            "text/html": [
              "<div>\n",
              "<style scoped>\n",
              "    .dataframe tbody tr th:only-of-type {\n",
              "        vertical-align: middle;\n",
              "    }\n",
              "\n",
              "    .dataframe tbody tr th {\n",
              "        vertical-align: top;\n",
              "    }\n",
              "\n",
              "    .dataframe thead th {\n",
              "        text-align: right;\n",
              "    }\n",
              "</style>\n",
              "<table border=\"1\" class=\"dataframe\">\n",
              "  <thead>\n",
              "    <tr style=\"text-align: right;\">\n",
              "      <th></th>\n",
              "      <th>District_Name</th>\n",
              "      <th>Soil_color</th>\n",
              "      <th>Nitrogen</th>\n",
              "      <th>Phosphorus</th>\n",
              "      <th>Potassium</th>\n",
              "      <th>pH</th>\n",
              "      <th>Rainfall</th>\n",
              "      <th>Temperature</th>\n",
              "      <th>Crop</th>\n",
              "      <th>Fertilizer</th>\n",
              "      <th>Link</th>\n",
              "    </tr>\n",
              "  </thead>\n",
              "  <tbody>\n",
              "    <tr>\n",
              "      <th>0</th>\n",
              "      <td>Kolhapur</td>\n",
              "      <td>Black</td>\n",
              "      <td>75</td>\n",
              "      <td>50</td>\n",
              "      <td>100</td>\n",
              "      <td>6.5</td>\n",
              "      <td>1000</td>\n",
              "      <td>20</td>\n",
              "      <td>Sugarcane</td>\n",
              "      <td>Urea</td>\n",
              "      <td>https://youtu.be/2t5Am0xLTOo</td>\n",
              "    </tr>\n",
              "    <tr>\n",
              "      <th>1</th>\n",
              "      <td>Kolhapur</td>\n",
              "      <td>Black</td>\n",
              "      <td>80</td>\n",
              "      <td>50</td>\n",
              "      <td>100</td>\n",
              "      <td>6.5</td>\n",
              "      <td>1000</td>\n",
              "      <td>20</td>\n",
              "      <td>Sugarcane</td>\n",
              "      <td>Urea</td>\n",
              "      <td>https://youtu.be/2t5Am0xLTOo</td>\n",
              "    </tr>\n",
              "    <tr>\n",
              "      <th>2</th>\n",
              "      <td>Kolhapur</td>\n",
              "      <td>Black</td>\n",
              "      <td>85</td>\n",
              "      <td>50</td>\n",
              "      <td>100</td>\n",
              "      <td>6.5</td>\n",
              "      <td>1000</td>\n",
              "      <td>20</td>\n",
              "      <td>Sugarcane</td>\n",
              "      <td>Urea</td>\n",
              "      <td>https://youtu.be/2t5Am0xLTOo</td>\n",
              "    </tr>\n",
              "    <tr>\n",
              "      <th>3</th>\n",
              "      <td>Kolhapur</td>\n",
              "      <td>Black</td>\n",
              "      <td>90</td>\n",
              "      <td>50</td>\n",
              "      <td>100</td>\n",
              "      <td>6.5</td>\n",
              "      <td>1000</td>\n",
              "      <td>20</td>\n",
              "      <td>Sugarcane</td>\n",
              "      <td>Urea</td>\n",
              "      <td>https://youtu.be/2t5Am0xLTOo</td>\n",
              "    </tr>\n",
              "    <tr>\n",
              "      <th>4</th>\n",
              "      <td>Kolhapur</td>\n",
              "      <td>Black</td>\n",
              "      <td>95</td>\n",
              "      <td>50</td>\n",
              "      <td>100</td>\n",
              "      <td>6.5</td>\n",
              "      <td>1000</td>\n",
              "      <td>20</td>\n",
              "      <td>Sugarcane</td>\n",
              "      <td>Urea</td>\n",
              "      <td>https://youtu.be/2t5Am0xLTOo</td>\n",
              "    </tr>\n",
              "  </tbody>\n",
              "</table>\n",
              "</div>"
            ],
            "text/plain": [
              "  District_Name Soil_color  Nitrogen  Phosphorus  Potassium   pH  Rainfall  \\\n",
              "0      Kolhapur      Black        75          50        100  6.5      1000   \n",
              "1      Kolhapur      Black        80          50        100  6.5      1000   \n",
              "2      Kolhapur      Black        85          50        100  6.5      1000   \n",
              "3      Kolhapur      Black        90          50        100  6.5      1000   \n",
              "4      Kolhapur      Black        95          50        100  6.5      1000   \n",
              "\n",
              "   Temperature       Crop Fertilizer                          Link  \n",
              "0           20  Sugarcane       Urea  https://youtu.be/2t5Am0xLTOo  \n",
              "1           20  Sugarcane       Urea  https://youtu.be/2t5Am0xLTOo  \n",
              "2           20  Sugarcane       Urea  https://youtu.be/2t5Am0xLTOo  \n",
              "3           20  Sugarcane       Urea  https://youtu.be/2t5Am0xLTOo  \n",
              "4           20  Sugarcane       Urea  https://youtu.be/2t5Am0xLTOo  "
            ]
          },
          "execution_count": 4,
          "metadata": {},
          "output_type": "execute_result"
        }
      ],
      "source": [
        "# View first 5 rows\n",
        "raw_data.head()"
      ]
    },
    {
      "cell_type": "code",
      "execution_count": 5,
      "metadata": {
        "colab": {
          "base_uri": "https://localhost:8080/"
        },
        "id": "oqj-hXAGkzVs",
        "outputId": "1633e38c-93ad-4f24-f546-1242623d4777"
      },
      "outputs": [
        {
          "data": {
            "text/plain": [
              "array(['Sugarcane', 'Jowar', 'Cotton', 'Rice', 'Wheat', 'Groundnut',\n",
              "       'Maize', 'Tur', 'Urad', 'Moong', 'Gram', 'Masoor', 'Soybean',\n",
              "       'Ginger', 'Turmeric', 'Grapes'], dtype=object)"
            ]
          },
          "execution_count": 5,
          "metadata": {},
          "output_type": "execute_result"
        }
      ],
      "source": [
        "raw_data['Crop'].unique()"
      ]
    },
    {
      "cell_type": "code",
      "execution_count": 6,
      "metadata": {
        "id": "g-O-TRo4TZ3S"
      },
      "outputs": [],
      "source": [
        "# Drop the unnecessary columns\n",
        "raw_data.drop(['Fertilizer', 'Link'], axis = 1, inplace = True)"
      ]
    },
    {
      "cell_type": "code",
      "execution_count": 7,
      "metadata": {
        "colab": {
          "base_uri": "https://localhost:8080/"
        },
        "id": "J9MI3d40WUZF",
        "outputId": "e0ac8949-d114-4921-e55a-25fa3891a77d"
      },
      "outputs": [
        {
          "data": {
            "text/plain": [
              "array(['Black', 'Red ', 'Medium Brown', 'Dark Brown', 'Red',\n",
              "       'Light Brown', 'Reddish Brown'], dtype=object)"
            ]
          },
          "execution_count": 7,
          "metadata": {},
          "output_type": "execute_result"
        }
      ],
      "source": [
        "raw_data['Soil_color'].unique()"
      ]
    },
    {
      "cell_type": "code",
      "execution_count": 8,
      "metadata": {
        "colab": {
          "base_uri": "https://localhost:8080/"
        },
        "id": "t2GH6b2lQJ-J",
        "outputId": "5e63a51b-9c10-47ce-ca2c-4612ad69f2ac"
      },
      "outputs": [
        {
          "name": "stdout",
          "output_type": "stream",
          "text": [
            "             Nitrogen  Phosphorus  Potassium        pH  Rainfall  Temperature\n",
            "Nitrogen     1.000000    0.709539   0.584315  0.182850  0.269364    -0.010213\n",
            "Phosphorus   0.709539    1.000000   0.573970  0.244945  0.225453    -0.055303\n",
            "Potassium    0.584315    0.573970   1.000000  0.075110  0.445671     0.053413\n",
            "pH           0.182850    0.244945   0.075110  1.000000  0.097884    -0.002949\n",
            "Rainfall     0.269364    0.225453   0.445671  0.097884  1.000000     0.315045\n",
            "Temperature -0.010213   -0.055303   0.053413 -0.002949  0.315045     1.000000\n"
          ]
        }
      ],
      "source": [
        "numeric_data = raw_data.select_dtypes(include=['number'])\n",
        "\n",
        "# Calculate the correlation matrix\n",
        "corr_matrix = numeric_data.corr()\n",
        "print(corr_matrix)"
      ]
    },
    {
      "cell_type": "code",
      "execution_count": 9,
      "metadata": {
        "colab": {
          "base_uri": "https://localhost:8080/",
          "height": 703
        },
        "id": "aBGhkr5VpYHX",
        "outputId": "db7bf900-5db3-441c-b1eb-49ea822bcc47"
      },
      "outputs": [
        {
          "data": {
            "image/png": "[encoded data removed]",
            "text/plain": [
              "<Figure size 1000x800 with 2 Axes>"
            ]
          },
          "metadata": {},
          "output_type": "display_data"
        }
      ],
      "source": [
        "plt.figure(figsize=(10, 8))  # Set the size of the plot\n",
        "sns.heatmap(corr_matrix, annot=True, cmap='viridis')  # annot=True to display values in the cells\n",
        "plt.title('Heat Map of Example Data')  # Add a title\n",
        "plt.show()  # Display the plot"
      ]
    },
    {
      "cell_type": "code",
      "execution_count": 10,
      "metadata": {
        "id": "1WOjT18QOZ40"
      },
      "outputs": [],
      "source": [
        "# Split the data into Dependent and Independent Variables\n",
        "\n",
        "X = raw_data.drop(['Rainfall', 'Crop'], axis = 1) # Independent Variable\n",
        "\n",
        "y = pd.get_dummies(raw_data['Crop'], dtype = int) # Dependent Variable\n"
      ]
    },
    {
      "cell_type": "code",
      "execution_count": 11,
      "metadata": {
        "colab": {
          "base_uri": "https://localhost:8080/",
          "height": 244
        },
        "id": "CT6wBFWaQ0N7",
        "outputId": "b4117c82-e627-4b5e-a45b-ca0de763acee"
      },
      "outputs": [
        {
          "data": {
            "text/html": [
              "<div>\n",
              "<style scoped>\n",
              "    .dataframe tbody tr th:only-of-type {\n",
              "        vertical-align: middle;\n",
              "    }\n",
              "\n",
              "    .dataframe tbody tr th {\n",
              "        vertical-align: top;\n",
              "    }\n",
              "\n",
              "    .dataframe thead th {\n",
              "        text-align: right;\n",
              "    }\n",
              "</style>\n",
              "<table border=\"1\" class=\"dataframe\">\n",
              "  <thead>\n",
              "    <tr style=\"text-align: right;\">\n",
              "      <th></th>\n",
              "      <th>Nitrogen</th>\n",
              "      <th>Phosphorus</th>\n",
              "      <th>Potassium</th>\n",
              "      <th>pH</th>\n",
              "      <th>Temperature</th>\n",
              "      <th>District_Name_Kolhapur</th>\n",
              "      <th>District_Name_Pune</th>\n",
              "      <th>District_Name_Sangli</th>\n",
              "      <th>District_Name_Satara</th>\n",
              "      <th>District_Name_Solapur</th>\n",
              "      <th>Soil_color_Black</th>\n",
              "      <th>Soil_color_Dark Brown</th>\n",
              "      <th>Soil_color_Light Brown</th>\n",
              "      <th>Soil_color_Medium Brown</th>\n",
              "      <th>Soil_color_Red</th>\n",
              "      <th>Soil_color_Reddish Brown</th>\n",
              "    </tr>\n",
              "  </thead>\n",
              "  <tbody>\n",
              "    <tr>\n",
              "      <th>0</th>\n",
              "      <td>75</td>\n",
              "      <td>50</td>\n",
              "      <td>100</td>\n",
              "      <td>6.5</td>\n",
              "      <td>20</td>\n",
              "      <td>1</td>\n",
              "      <td>0</td>\n",
              "      <td>0</td>\n",
              "      <td>0</td>\n",
              "      <td>0</td>\n",
              "      <td>1</td>\n",
              "      <td>0</td>\n",
              "      <td>0</td>\n",
              "      <td>0</td>\n",
              "      <td>0</td>\n",
              "      <td>0</td>\n",
              "    </tr>\n",
              "    <tr>\n",
              "      <th>1</th>\n",
              "      <td>80</td>\n",
              "      <td>50</td>\n",
              "      <td>100</td>\n",
              "      <td>6.5</td>\n",
              "      <td>20</td>\n",
              "      <td>1</td>\n",
              "      <td>0</td>\n",
              "      <td>0</td>\n",
              "      <td>0</td>\n",
              "      <td>0</td>\n",
              "      <td>1</td>\n",
              "      <td>0</td>\n",
              "      <td>0</td>\n",
              "      <td>0</td>\n",
              "      <td>0</td>\n",
              "      <td>0</td>\n",
              "    </tr>\n",
              "    <tr>\n",
              "      <th>2</th>\n",
              "      <td>85</td>\n",
              "      <td>50</td>\n",
              "      <td>100</td>\n",
              "      <td>6.5</td>\n",
              "      <td>20</td>\n",
              "      <td>1</td>\n",
              "      <td>0</td>\n",
              "      <td>0</td>\n",
              "      <td>0</td>\n",
              "      <td>0</td>\n",
              "      <td>1</td>\n",
              "      <td>0</td>\n",
              "      <td>0</td>\n",
              "      <td>0</td>\n",
              "      <td>0</td>\n",
              "      <td>0</td>\n",
              "    </tr>\n",
              "    <tr>\n",
              "      <th>3</th>\n",
              "      <td>90</td>\n",
              "      <td>50</td>\n",
              "      <td>100</td>\n",
              "      <td>6.5</td>\n",
              "      <td>20</td>\n",
              "      <td>1</td>\n",
              "      <td>0</td>\n",
              "      <td>0</td>\n",
              "      <td>0</td>\n",
              "      <td>0</td>\n",
              "      <td>1</td>\n",
              "      <td>0</td>\n",
              "      <td>0</td>\n",
              "      <td>0</td>\n",
              "      <td>0</td>\n",
              "      <td>0</td>\n",
              "    </tr>\n",
              "    <tr>\n",
              "      <th>4</th>\n",
              "      <td>95</td>\n",
              "      <td>50</td>\n",
              "      <td>100</td>\n",
              "      <td>6.5</td>\n",
              "      <td>20</td>\n",
              "      <td>1</td>\n",
              "      <td>0</td>\n",
              "      <td>0</td>\n",
              "      <td>0</td>\n",
              "      <td>0</td>\n",
              "      <td>1</td>\n",
              "      <td>0</td>\n",
              "      <td>0</td>\n",
              "      <td>0</td>\n",
              "      <td>0</td>\n",
              "      <td>0</td>\n",
              "    </tr>\n",
              "  </tbody>\n",
              "</table>\n",
              "</div>"
            ],
            "text/plain": [
              "   Nitrogen  Phosphorus  Potassium   pH  Temperature  District_Name_Kolhapur  \\\n",
              "0        75          50        100  6.5           20                       1   \n",
              "1        80          50        100  6.5           20                       1   \n",
              "2        85          50        100  6.5           20                       1   \n",
              "3        90          50        100  6.5           20                       1   \n",
              "4        95          50        100  6.5           20                       1   \n",
              "\n",
              "   District_Name_Pune  District_Name_Sangli  District_Name_Satara  \\\n",
              "0                   0                     0                     0   \n",
              "1                   0                     0                     0   \n",
              "2                   0                     0                     0   \n",
              "3                   0                     0                     0   \n",
              "4                   0                     0                     0   \n",
              "\n",
              "   District_Name_Solapur  Soil_color_Black  Soil_color_Dark Brown  \\\n",
              "0                      0                 1                      0   \n",
              "1                      0                 1                      0   \n",
              "2                      0                 1                      0   \n",
              "3                      0                 1                      0   \n",
              "4                      0                 1                      0   \n",
              "\n",
              "   Soil_color_Light Brown  Soil_color_Medium Brown  Soil_color_Red  \\\n",
              "0                       0                        0               0   \n",
              "1                       0                        0               0   \n",
              "2                       0                        0               0   \n",
              "3                       0                        0               0   \n",
              "4                       0                        0               0   \n",
              "\n",
              "   Soil_color_Reddish Brown  \n",
              "0                         0  \n",
              "1                         0  \n",
              "2                         0  \n",
              "3                         0  \n",
              "4                         0  "
            ]
          },
          "execution_count": 11,
          "metadata": {},
          "output_type": "execute_result"
        }
      ],
      "source": [
        "# Replace categorical Values with numerical values\n",
        "\n",
        "X_encoded = pd.get_dummies(X, columns=['District_Name', 'Soil_color'], dtype = int)\n",
        "X_encoded.drop('Soil_color_Red ', inplace = True, axis = 1) # Drop the repeated occurence of the soil type = RED\n",
        "X_encoded.head()\n",
        "\n"
      ]
    },
    {
      "cell_type": "markdown",
      "metadata": {
        "id": "BlMQpw-bXSFG"
      },
      "source": [
        "'Nitrogen', 'Phosphorus', 'Potassium', 'pH', 'Temperature',\n",
        "        'District_Name_Kolhapur', 'District_Name_Pune', 'District_Name_Sangli', 'District_Name_Satara', 'District_Name_Solapur',\n",
        "        'Soil_color_Black', 'Soil_color_Dark Brown', 'Soil_color_Light Brown', 'Soil_color_Medium Brown', 'Soil_color_Red', 'Soil_color_Reddish Brown'"
      ]
    },
    {
      "cell_type": "markdown",
      "metadata": {
        "id": "iUifro1uqdYu"
      },
      "source": [
        "Scalae the Data using Standard Scalar"
      ]
    },
    {
      "cell_type": "code",
      "execution_count": 12,
      "metadata": {
        "id": "68EV980VX6Wt"
      },
      "outputs": [],
      "source": [
        "scalar = StandardScaler() # Import the scalar data\n",
        "scalar.fit(X_encoded) # Fit the data\n",
        "X_scaled = scalar.transform(X_encoded)"
      ]
    },
    {
      "cell_type": "markdown",
      "metadata": {
        "id": "EE6ug5Hlq0O8"
      },
      "source": [
        "Split the data into Trainning, Testing and validataion sets with a split of 8:1:1 respectively."
      ]
    },
    {
      "cell_type": "code",
      "execution_count": 13,
      "metadata": {
        "colab": {
          "base_uri": "https://localhost:8080/"
        },
        "id": "ektmTxg-Wo4z",
        "outputId": "45149300-a4c8-45eb-8e5c-b91e116b60d8"
      },
      "outputs": [
        {
          "name": "stdout",
          "output_type": "stream",
          "text": [
            "Training set: (1805, 16) (1805, 16)\n",
            "Validation set: (1805, 16) (1805, 16)\n",
            "Test set: (903, 16) (903, 16)\n"
          ]
        }
      ],
      "source": [
        "import numpy as np\n",
        "from sklearn.model_selection import train_test_split\n",
        "# Split data into training and temporary set (80% training, 20% temporary)\n",
        "X_train_temp, X_test, y_train_temp, y_test = train_test_split(X_scaled, y, test_size=0.2, random_state=42)\n",
        "\n",
        "# Split temporary set into validation and final test set (50% validation, 50% test)\n",
        "X_train, X_val, y_train, y_val = train_test_split(X_train_temp, y_train_temp, test_size=0.5, random_state=42)\n",
        "\n",
        "# Print size of each set\n",
        "print(\"Training set:\", X_train.shape, y_train.shape)\n",
        "print(\"Validation set:\", X_val.shape, y_val.shape)\n",
        "print(\"Test set:\", X_test.shape, y_test.shape)"
      ]
    },
    {
      "cell_type": "markdown",
      "metadata": {
        "id": "pz8jIpIbrDRz"
      },
      "source": [
        "# Built the model"
      ]
    },
    {
      "cell_type": "code",
      "execution_count": 14,
      "metadata": {
        "colab": {
          "base_uri": "https://localhost:8080/"
        },
        "id": "VChzvOOeXMH5",
        "outputId": "9e916f4a-e9ae-429c-c3d9-2d938f2b4669"
      },
      "outputs": [
        {
          "name": "stdout",
          "output_type": "stream",
          "text": [
            "Epoch 1/50\n"
          ]
        },
        {
          "name": "stderr",
          "output_type": "stream",
          "text": [
            "d:\\Data Transfer\\Coding\\Python\\Project\\Crop_rec_system\\temp\\Lib\\site-packages\\keras\\src\\layers\\core\\dense.py:87: UserWarning: Do not pass an `input_shape`/`input_dim` argument to a layer. When using Sequential models, prefer using an `Input(shape)` object as the first layer in the model instead.\n",
            "  super().__init__(activity_regularizer=activity_regularizer, **kwargs)\n"
          ]
        },
        {
          "name": "stdout",
          "output_type": "stream",
          "text": [
            "\u001b[1m57/57\u001b[0m \u001b[32m━━━━━━━━━━━━━━━━━━━━\u001b[0m\u001b[37m\u001b[0m \u001b[1m1s\u001b[0m 4ms/step - accuracy: 0.1269 - loss: 2.7371 - val_accuracy: 0.4693 - val_loss: 2.2427\n",
            "Epoch 2/50\n",
            "\u001b[1m57/57\u001b[0m \u001b[32m━━━━━━━━━━━━━━━━━━━━\u001b[0m\u001b[37m\u001b[0m \u001b[1m0s\u001b[0m 1ms/step - accuracy: 0.5082 - loss: 1.9493 - val_accuracy: 0.6482 - val_loss: 1.2321\n",
            "Epoch 3/50\n",
            "\u001b[1m57/57\u001b[0m \u001b[32m━━━━━━━━━━━━━━━━━━━━\u001b[0m\u001b[37m\u001b[0m \u001b[1m0s\u001b[0m 1ms/step - accuracy: 0.6910 - loss: 1.1361 - val_accuracy: 0.7950 - val_loss: 0.8586\n",
            "Epoch 4/50\n",
            "\u001b[1m57/57\u001b[0m \u001b[32m━━━━━━━━━━━━━━━━━━━━\u001b[0m\u001b[37m\u001b[0m \u001b[1m0s\u001b[0m 2ms/step - accuracy: 0.8016 - loss: 0.7444 - val_accuracy: 0.8371 - val_loss: 0.6265\n",
            "Epoch 5/50\n",
            "\u001b[1m57/57\u001b[0m \u001b[32m━━━━━━━━━━━━━━━━━━━━\u001b[0m\u001b[37m\u001b[0m \u001b[1m0s\u001b[0m 1ms/step - accuracy: 0.8438 - loss: 0.5339 - val_accuracy: 0.8604 - val_loss: 0.4866\n",
            "Epoch 6/50\n",
            "\u001b[1m57/57\u001b[0m \u001b[32m━━━━━━━━━━━━━━━━━━━━\u001b[0m\u001b[37m\u001b[0m \u001b[1m0s\u001b[0m 1ms/step - accuracy: 0.8785 - loss: 0.4427 - val_accuracy: 0.8792 - val_loss: 0.4057\n",
            "Epoch 7/50\n",
            "\u001b[1m57/57\u001b[0m \u001b[32m━━━━━━━━━━━━━━━━━━━━\u001b[0m\u001b[37m\u001b[0m \u001b[1m0s\u001b[0m 1ms/step - accuracy: 0.8942 - loss: 0.3450 - val_accuracy: 0.8886 - val_loss: 0.3441\n",
            "Epoch 8/50\n",
            "\u001b[1m57/57\u001b[0m \u001b[32m━━━━━━━━━━━━━━━━━━━━\u001b[0m\u001b[37m\u001b[0m \u001b[1m0s\u001b[0m 1ms/step - accuracy: 0.9011 - loss: 0.3084 - val_accuracy: 0.9003 - val_loss: 0.3206\n",
            "Epoch 9/50\n",
            "\u001b[1m57/57\u001b[0m \u001b[32m━━━━━━━━━━━━━━━━━━━━\u001b[0m\u001b[37m\u001b[0m \u001b[1m0s\u001b[0m 1ms/step - accuracy: 0.9304 - loss: 0.2426 - val_accuracy: 0.9080 - val_loss: 0.2799\n",
            "Epoch 10/50\n",
            "\u001b[1m57/57\u001b[0m \u001b[32m━━━━━━━━━━━━━━━━━━━━\u001b[0m\u001b[37m\u001b[0m \u001b[1m0s\u001b[0m 2ms/step - accuracy: 0.9277 - loss: 0.2452 - val_accuracy: 0.9175 - val_loss: 0.2366\n",
            "Epoch 11/50\n",
            "\u001b[1m57/57\u001b[0m \u001b[32m━━━━━━━━━━━━━━━━━━━━\u001b[0m\u001b[37m\u001b[0m \u001b[1m0s\u001b[0m 1ms/step - accuracy: 0.9473 - loss: 0.1913 - val_accuracy: 0.9313 - val_loss: 0.2113\n",
            "Epoch 12/50\n",
            "\u001b[1m57/57\u001b[0m \u001b[32m━━━━━━━━━━━━━━━━━━━━\u001b[0m\u001b[37m\u001b[0m \u001b[1m0s\u001b[0m 1ms/step - accuracy: 0.9405 - loss: 0.2094 - val_accuracy: 0.9368 - val_loss: 0.1974\n",
            "Epoch 13/50\n",
            "\u001b[1m57/57\u001b[0m \u001b[32m━━━━━━━━━━━━━━━━━━━━\u001b[0m\u001b[37m\u001b[0m \u001b[1m0s\u001b[0m 1ms/step - accuracy: 0.9510 - loss: 0.1635 - val_accuracy: 0.9363 - val_loss: 0.1864\n",
            "Epoch 14/50\n",
            "\u001b[1m57/57\u001b[0m \u001b[32m━━━━━━━━━━━━━━━━━━━━\u001b[0m\u001b[37m\u001b[0m \u001b[1m0s\u001b[0m 1ms/step - accuracy: 0.9484 - loss: 0.1566 - val_accuracy: 0.9429 - val_loss: 0.1631\n",
            "Epoch 15/50\n",
            "\u001b[1m57/57\u001b[0m \u001b[32m━━━━━━━━━━━━━━━━━━━━\u001b[0m\u001b[37m\u001b[0m \u001b[1m0s\u001b[0m 1ms/step - accuracy: 0.9566 - loss: 0.1333 - val_accuracy: 0.9496 - val_loss: 0.1456\n",
            "Epoch 16/50\n",
            "\u001b[1m57/57\u001b[0m \u001b[32m━━━━━━━━━━━━━━━━━━━━\u001b[0m\u001b[37m\u001b[0m \u001b[1m0s\u001b[0m 2ms/step - accuracy: 0.9536 - loss: 0.1337 - val_accuracy: 0.9479 - val_loss: 0.1446\n",
            "Epoch 17/50\n",
            "\u001b[1m57/57\u001b[0m \u001b[32m━━━━━━━━━━━━━━━━━━━━\u001b[0m\u001b[37m\u001b[0m \u001b[1m0s\u001b[0m 1ms/step - accuracy: 0.9592 - loss: 0.1241 - val_accuracy: 0.9485 - val_loss: 0.1434\n",
            "Epoch 18/50\n",
            "\u001b[1m57/57\u001b[0m \u001b[32m━━━━━━━━━━━━━━━━━━━━\u001b[0m\u001b[37m\u001b[0m \u001b[1m0s\u001b[0m 2ms/step - accuracy: 0.9548 - loss: 0.1314 - val_accuracy: 0.9490 - val_loss: 0.1401\n",
            "Epoch 19/50\n",
            "\u001b[1m57/57\u001b[0m \u001b[32m━━━━━━━━━━━━━━━━━━━━\u001b[0m\u001b[37m\u001b[0m \u001b[1m0s\u001b[0m 1ms/step - accuracy: 0.9572 - loss: 0.1180 - val_accuracy: 0.9612 - val_loss: 0.1284\n",
            "Epoch 20/50\n",
            "\u001b[1m57/57\u001b[0m \u001b[32m━━━━━━━━━━━━━━━━━━━━\u001b[0m\u001b[37m\u001b[0m \u001b[1m0s\u001b[0m 1ms/step - accuracy: 0.9676 - loss: 0.1046 - val_accuracy: 0.9540 - val_loss: 0.1263\n",
            "Epoch 21/50\n",
            "\u001b[1m57/57\u001b[0m \u001b[32m━━━━━━━━━━━━━━━━━━━━\u001b[0m\u001b[37m\u001b[0m \u001b[1m0s\u001b[0m 2ms/step - accuracy: 0.9709 - loss: 0.0959 - val_accuracy: 0.9596 - val_loss: 0.1116\n",
            "Epoch 22/50\n",
            "\u001b[1m57/57\u001b[0m \u001b[32m━━━━━━━━━━━━━━━━━━━━\u001b[0m\u001b[37m\u001b[0m \u001b[1m0s\u001b[0m 1ms/step - accuracy: 0.9732 - loss: 0.0928 - val_accuracy: 0.9601 - val_loss: 0.1102\n",
            "Epoch 23/50\n",
            "\u001b[1m57/57\u001b[0m \u001b[32m━━━━━━━━━━━━━━━━━━━━\u001b[0m\u001b[37m\u001b[0m \u001b[1m0s\u001b[0m 1ms/step - accuracy: 0.9688 - loss: 0.0939 - val_accuracy: 0.9529 - val_loss: 0.1273\n",
            "Epoch 24/50\n",
            "\u001b[1m57/57\u001b[0m \u001b[32m━━━━━━━━━━━━━━━━━━━━\u001b[0m\u001b[37m\u001b[0m \u001b[1m0s\u001b[0m 2ms/step - accuracy: 0.9680 - loss: 0.0852 - val_accuracy: 0.9673 - val_loss: 0.0986\n",
            "Epoch 25/50\n",
            "\u001b[1m57/57\u001b[0m \u001b[32m━━━━━━━━━━━━━━━━━━━━\u001b[0m\u001b[37m\u001b[0m \u001b[1m0s\u001b[0m 1ms/step - accuracy: 0.9711 - loss: 0.0828 - val_accuracy: 0.9640 - val_loss: 0.0935\n",
            "Epoch 26/50\n",
            "\u001b[1m57/57\u001b[0m \u001b[32m━━━━━━━━━━━━━━━━━━━━\u001b[0m\u001b[37m\u001b[0m \u001b[1m0s\u001b[0m 1ms/step - accuracy: 0.9748 - loss: 0.0818 - val_accuracy: 0.9623 - val_loss: 0.0959\n",
            "Epoch 27/50\n",
            "\u001b[1m57/57\u001b[0m \u001b[32m━━━━━━━━━━━━━━━━━━━━\u001b[0m\u001b[37m\u001b[0m \u001b[1m0s\u001b[0m 2ms/step - accuracy: 0.9725 - loss: 0.0847 - val_accuracy: 0.9679 - val_loss: 0.0856\n",
            "Epoch 28/50\n",
            "\u001b[1m57/57\u001b[0m \u001b[32m━━━━━━━━━━━━━━━━━━━━\u001b[0m\u001b[37m\u001b[0m \u001b[1m0s\u001b[0m 2ms/step - accuracy: 0.9705 - loss: 0.0801 - val_accuracy: 0.9590 - val_loss: 0.0909\n",
            "Epoch 29/50\n",
            "\u001b[1m57/57\u001b[0m \u001b[32m━━━━━━━━━━━━━━━━━━━━\u001b[0m\u001b[37m\u001b[0m \u001b[1m0s\u001b[0m 1ms/step - accuracy: 0.9723 - loss: 0.0784 - val_accuracy: 0.9629 - val_loss: 0.0942\n",
            "Epoch 30/50\n",
            "\u001b[1m57/57\u001b[0m \u001b[32m━━━━━━━━━━━━━━━━━━━━\u001b[0m\u001b[37m\u001b[0m \u001b[1m0s\u001b[0m 1ms/step - accuracy: 0.9710 - loss: 0.0760 - val_accuracy: 0.9623 - val_loss: 0.0880\n",
            "Epoch 31/50\n",
            "\u001b[1m57/57\u001b[0m \u001b[32m━━━━━━━━━━━━━━━━━━━━\u001b[0m\u001b[37m\u001b[0m \u001b[1m0s\u001b[0m 1ms/step - accuracy: 0.9718 - loss: 0.0723 - val_accuracy: 0.9618 - val_loss: 0.0886\n",
            "Epoch 32/50\n",
            "\u001b[1m57/57\u001b[0m \u001b[32m━━━━━━━━━━━━━━━━━━━━\u001b[0m\u001b[37m\u001b[0m \u001b[1m0s\u001b[0m 2ms/step - accuracy: 0.9819 - loss: 0.0723 - val_accuracy: 0.9712 - val_loss: 0.0763\n",
            "Epoch 33/50\n",
            "\u001b[1m57/57\u001b[0m \u001b[32m━━━━━━━━━━━━━━━━━━━━\u001b[0m\u001b[37m\u001b[0m \u001b[1m0s\u001b[0m 1ms/step - accuracy: 0.9824 - loss: 0.0619 - val_accuracy: 0.9701 - val_loss: 0.0757\n",
            "Epoch 34/50\n",
            "\u001b[1m57/57\u001b[0m \u001b[32m━━━━━━━━━━━━━━━━━━━━\u001b[0m\u001b[37m\u001b[0m \u001b[1m0s\u001b[0m 1ms/step - accuracy: 0.9733 - loss: 0.0724 - val_accuracy: 0.9740 - val_loss: 0.0742\n",
            "Epoch 35/50\n",
            "\u001b[1m57/57\u001b[0m \u001b[32m━━━━━━━━━━━━━━━━━━━━\u001b[0m\u001b[37m\u001b[0m \u001b[1m0s\u001b[0m 1ms/step - accuracy: 0.9772 - loss: 0.0634 - val_accuracy: 0.9695 - val_loss: 0.0712\n",
            "Epoch 36/50\n",
            "\u001b[1m57/57\u001b[0m \u001b[32m━━━━━━━━━━━━━━━━━━━━\u001b[0m\u001b[37m\u001b[0m \u001b[1m0s\u001b[0m 2ms/step - accuracy: 0.9713 - loss: 0.0768 - val_accuracy: 0.9706 - val_loss: 0.0774\n",
            "Epoch 37/50\n",
            "\u001b[1m57/57\u001b[0m \u001b[32m━━━━━━━━━━━━━━━━━━━━\u001b[0m\u001b[37m\u001b[0m \u001b[1m0s\u001b[0m 2ms/step - accuracy: 0.9831 - loss: 0.0568 - val_accuracy: 0.9701 - val_loss: 0.0693\n",
            "Epoch 38/50\n",
            "\u001b[1m57/57\u001b[0m \u001b[32m━━━━━━━━━━━━━━━━━━━━\u001b[0m\u001b[37m\u001b[0m \u001b[1m0s\u001b[0m 2ms/step - accuracy: 0.9696 - loss: 0.0631 - val_accuracy: 0.9701 - val_loss: 0.0693\n",
            "Epoch 39/50\n",
            "\u001b[1m57/57\u001b[0m \u001b[32m━━━━━━━━━━━━━━━━━━━━\u001b[0m\u001b[37m\u001b[0m \u001b[1m0s\u001b[0m 2ms/step - accuracy: 0.9796 - loss: 0.0544 - val_accuracy: 0.9706 - val_loss: 0.0713\n",
            "Epoch 39: early stopping\n"
          ]
        }
      ],
      "source": [
        "\n",
        "# Define the model\n",
        "model = Sequential([\n",
        "    Dense(64, input_shape=(16,), activation='relu'),\n",
        "    Dense(32, activation='relu'),\n",
        "    Dense(16, activation='relu'),\n",
        "    Dense(16, activation='softmax')  # 11 units for 11 classes, softmax for multi-class\n",
        "])\n",
        "\n",
        "# Compile the model\n",
        "model.compile(optimizer='adam',\n",
        "              loss='categorical_crossentropy',\n",
        "              metrics=['accuracy'])\n",
        "\n",
        "\n",
        "# Define EarlyStopping callback\n",
        "early_stopping = EarlyStopping(monitor='val_accuracy', patience=5, mode='max', verbose=1)\n",
        "\n",
        "# Fit the model\n",
        "history = model.fit(X_train, y_train,\n",
        "                    epochs=50,\n",
        "                    batch_size=32,\n",
        "                    validation_data=(X_val, y_val),\n",
        "                    callbacks=[early_stopping])\n",
        "\n",
        "\n"
      ]
    },
    {
      "cell_type": "code",
      "execution_count": 15,
      "metadata": {
        "colab": {
          "base_uri": "https://localhost:8080/"
        },
        "id": "j560-JWERK7B",
        "outputId": "03207dd1-d46e-44bc-baee-5b6b67c83aee"
      },
      "outputs": [
        {
          "name": "stdout",
          "output_type": "stream",
          "text": [
            "\u001b[1m29/29\u001b[0m \u001b[32m━━━━━━━━━━━━━━━━━━━━\u001b[0m\u001b[37m\u001b[0m \u001b[1m0s\u001b[0m 612us/step - accuracy: 0.9762 - loss: 0.0647\n",
            "Test Accuracy: 0.9800664186477661\n"
          ]
        }
      ],
      "source": [
        "# Find the test accuracy on test data\n",
        "loss, accuracy = model.evaluate(X_test, y_test)\n",
        "print(f\"Test Accuracy: {accuracy}\")"
      ]
    },
    {
      "cell_type": "markdown",
      "metadata": {
        "id": "3MQzx5rhraHQ"
      },
      "source": [
        "Save the model and Scalar objects."
      ]
    },
    {
      "cell_type": "code",
      "execution_count": 16,
      "metadata": {
        "id": "W1VKKE0vYxPV"
      },
      "outputs": [],
      "source": [
        "# Save the model as a pkl file\n",
        "with open('model.pkl', 'wb') as f:\n",
        "    pk.dump(model, f)"
      ]
    },
    {
      "cell_type": "code",
      "execution_count": 17,
      "metadata": {
        "id": "UJKSZG9PRSLC"
      },
      "outputs": [],
      "source": [
        "# Save the scalar Object as a pkl file\n",
        "with open('scaler.pkl', 'wb') as f:\n",
        "    pk.dump(scalar, f)"
      ]
    }
  ],
  "metadata": {
    "colab": {
      "collapsed_sections": [
        "Zf7pdTqMnf_q"
      ],
      "provenance": []
    },
    "kernelspec": {
      "display_name": "Python 3",
      "name": "python3"
    },
    "language_info": {
      "codemirror_mode": {
        "name": "ipython",
        "version": 3
      },
      "file_extension": ".py",
      "mimetype": "text/x-python",
      "name": "python",
      "nbconvert_exporter": "python",
      "pygments_lexer": "ipython3",
      "version": "3.12.2"
    }
  },
  "nbformat": 4,
  "nbformat_minor": 0
}
